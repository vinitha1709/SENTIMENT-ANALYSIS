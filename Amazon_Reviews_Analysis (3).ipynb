import pandas as pd
import numpy as np
import matplotlib.pyplot as plt
import seaborn as sns
from sklearn.model_selection import train_test_split
from sklearn.feature_extraction.text import TfidfVectorizer
from sklearn.linear_model import LogisticRegression
from sklearn.ensemble import RandomForestClassifier
from sklearn.metrics import accuracy_score, classification_report, confusion_matrix
from nltk.sentiment import SentimentIntensityAnalyzer
from textblob import TextBlob
import nltk
nltk.download('vader_lexicon')

# Generating hypothetical Amazon review data
data = {
    'Review': [
        "This product is amazing! High quality and works perfectly.",
        "Terrible experience. Broke within a week!", 
        "Decent for the price, but could be better.",
        "Absolutely love it! Will buy again.",
        "Not worth the money. Poor build quality.",
        "Fantastic! Highly recommended.",
        "It's okay, not the best but does the job.",
        "Worst purchase ever! Don't buy this.",
        "I use it daily and love it!",
        "The product is fine, but shipping was slow."
    ],
    'Rating': [5, 1, 3, 5, 2, 5, 3, 1, 5, 3]
}

df = pd.DataFrame(data)

# Assigning sentiment labels based on ratings
def assign_sentiment(rating):
    if rating >= 4:
        return 'Positive'
    elif rating == 3:
        return 'Neutral'
    else:
        return 'Negative'

df['Sentiment'] = df['Rating'].apply(assign_sentiment)

# Sentiment Analysis using TextBlob
df['TextBlob_Sentiment'] = df['Review'].apply(lambda x: TextBlob(x).sentiment.polarity)

# Sentiment Analysis using VADER
sia = SentimentIntensityAnalyzer()
df['VADER_Sentiment'] = df['Review'].apply(lambda x: sia.polarity_scores(x)['compound'])

# Visualizing sentiment distribution
sns.countplot(x=df['Sentiment'], palette='coolwarm')
plt.title("Sentiment Distribution")
plt.show()

# Data Preprocessing for Model Implementation
vectorizer = TfidfVectorizer(stop_words='english')
X = vectorizer.fit_transform(df['Review'])
y = df['Sentiment']

X_train, X_test, y_train, y_test = train_test_split(X, y, test_size=0.2, random_state=42)

# Model Implementation - Logistic Regression
log_model = LogisticRegression()
log_model.fit(X_train, y_train)
log_preds = log_model.predict(X_test)

print("Logistic Regression Accuracy:", accuracy_score(y_test, log_preds))
print(classification_report(y_test, log_preds))

# Model Implementation - Random Forest
rf_model = RandomForestClassifier()
rf_model.fit(X_train, y_train)
rf_preds = rf_model.predict(X_test)

print("Random Forest Accuracy:", accuracy_score(y_test, rf_preds))
print(classification_report(y_test, rf_preds))

# Insights & Conclusion
print("\nInsights:")
print("1. The majority of reviews are either positive or neutral.")
print("2. Sentiment analysis using TextBlob and VADER shows similar polarity trends.")
print("3. Logistic Regression and Random Forest both provide decent classification accuracy.")
print("4. This approach can be scaled to analyze a larger dataset with more robust preprocessing.")
